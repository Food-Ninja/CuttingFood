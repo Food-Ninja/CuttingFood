{
 "cells": [
  {
   "cell_type": "markdown",
   "source": [
    "## Food Cutting OWLReady Integration Notebook\n",
    "\n",
    "OWLReady Integration with owlready2 for the Food Cutting SPARQL Queries from: https://github.com/Food-Ninja/CuttingFood/blob/main/jupyter/FoodCuttingQueries.ipynb"
   ],
   "metadata": {
    "collapsed": false
   }
  },
  {
   "cell_type": "code",
   "source": [
    "from symbol import return_stmt\n",
    "\n",
    "import owlready2\n",
    "from owlready2 import get_ontology, Restriction, And"
   ],
   "metadata": {
    "collapsed": false
   },
   "outputs": [],
   "execution_count": null
  },
  {
   "cell_type": "markdown",
   "source": [
    "- The URL can be a file from the internet but also a local file\n",
    "- Defining the Namespaces globally so they can be accessed by every function\n",
    "- Accessing a class requires to call the Namespace for example, the class \"apple\" (IRI: \"http://purl.obolibrary.org/obo/FOODON_03301710\") corresponds to OBO.FOODON_03301710, as the OBO namespace is defined as such."
   ],
   "metadata": {
    "collapsed": false
   }
  },
  {
   "cell_type": "code",
   "source": [
    "url = \"https://raw.githubusercontent.com/Food-Ninja/CuttingFood/main/owl/food_cutting.owl\"\n",
    "onto = get_ontology(url).load()\n",
    "SOMA = onto.get_namespace(\"http://www.ease-crc.org/ont/SOMA.owl#\")\n",
    "CUT2 = onto.get_namespace(\"http://www.ease-crc.org/ont/situation_awareness#\")\n",
    "CUT = onto.get_namespace(\"http://www.ease-crc.org/ont/food_cutting#\")\n",
    "DUL = onto.get_namespace(\"http://www.ontologydesignpatterns.org/ont/dul/DUL.owl#\")\n",
    "OBO = onto.get_namespace(\"http://purl.obolibrary.org/obo/\")\n"
   ],
   "metadata": {
    "collapsed": false
   },
   "outputs": [],
   "execution_count": null
  },
  {
   "cell_type": "markdown",
   "source": [
    "- Utility function to retrieve all restrictions, the restrictions are structured as parent classes of the food object.\n",
    "- requires food object class as input, for example: OBO.FOODON_03301710"
   ],
   "metadata": {
    "collapsed": false
   }
  },
  {
   "metadata": {
    "collapsed": false
   },
   "cell_type": "code",
   "source": [
    "def get_restrictions_of_class(cls):\n",
    "    union = set()\n",
    "    for parent in cls.is_a:\n",
    "        if not isinstance(parent, owlready2.Restriction):\n",
    "            for e in parent.is_a:\n",
    "                if isinstance(e, owlready2.Restriction):\n",
    "                    union.add(e)\n",
    "        else:\n",
    "            union.add(parent)\n",
    "    \n",
    "    return list(union)"
   ],
   "outputs": [],
   "execution_count": null
  },
  {
   "cell_type": "markdown",
   "source": [
    "- Query for the required Tool, requires a food object as input.\n",
    "- The food object class has a restriction which shows which CuttingTool is required.\n",
    "- First we consider only the restrictions with the property: \"SOMA.hasDisposition\" and check if the food object can be cut.\n",
    "- Secondly we check if a CuttingTask can be afforded, by looking at the property \"SOMA.affordsTask\".\n",
    "- Finally we can retrieve the required tool with the \"SOMA.affordsTrigger\" property."
   ],
   "metadata": {
    "collapsed": false
   }
  },
  {
   "cell_type": "code",
   "source": [
    "def gettool_query(food_object=None):\n",
    "    restrictions = get_restrictions_of_class(food_object)\n",
    "    for restriction in restrictions:\n",
    "        if isinstance(restriction, owlready2.Restriction) and restriction.property == SOMA.hasDisposition:\n",
    "            for r in restriction.value.Classes:\n",
    "                if r == CUT2.Cuttability:\n",
    "                    for c in restriction.value.Classes:\n",
    "                        if isinstance(c, owlready2.Restriction) and c.property == SOMA.affordsTask:\n",
    "                            if c.value != CUT.CuttingTask:\n",
    "                                return \"No CuttingTask found\"\n",
    "                            continue\n",
    "                        if isinstance(c, owlready2.Restriction) and c.property == SOMA.affordsTrigger:\n",
    "                            return c.value.value"
   ],
   "metadata": {
    "collapsed": false
   },
   "outputs": [],
   "execution_count": null
  },
  {
   "cell_type": "markdown",
   "source": [
    "- This function checks if and which prior actions are required, for example if the core of a fruit needs to be removed.\n",
    "- First we want to check if an action is required by looking at the \"CUT.hasPart\" property, this property contains classes like \"Cut.ShouldBeAvoided\" or \"MustBeAvoided\", which indicates that a prior action is required.\n",
    "- If the case occurs, we look at the Class which is retrieved from the \"CUT.hasPart\" property, like \"Stem\" and \"Core\". This classes also contain restrictions from which we can retrieve the needed action, by asking the property \"SOMA.affordsTask\".\n",
    "- The output can be for example \"StemRemoving\" or \"CoreCutting\""
   ],
   "metadata": {
    "collapsed": false
   }
  },
  {
   "cell_type": "code",
   "source": [
    "def needed_action_query(food_object=None):\n",
    "    needed_actions = []\n",
    "    restrictions = get_restrictions_of_class(food_object)\n",
    "    for i in restrictions:\n",
    "        if isinstance(i, owlready2.Restriction) and i.property == CUT.hasPart:\n",
    "            for c in i.value.Classes:\n",
    "                if isinstance(c, owlready2.Restriction) and c.property == CUT.hasEdibility:\n",
    "                    if c.value == CUT.ShouldBeAvoided or c.value == CUT.MustBeAvoided:\n",
    "                        for j in i.value.Classes:\n",
    "                            if not isinstance(j, owlready2.Restriction):\n",
    "                                if len(get_restrictions_of_class(j)) == 0:\n",
    "                                    continue\n",
    "                                if len(get_restrictions_of_class(j)) > 0:\n",
    "                                    for h in get_restrictions_of_class(j):\n",
    "                                        for k in h.value.Classes:\n",
    "                                            if not isinstance(k, owlready2.Restriction):\n",
    "                                                continue\n",
    "                                            if isinstance(k, owlready2.Restriction) and k.property == SOMA.affordsTask:\n",
    "                                                needed_actions.append(k.value)\n",
    "\n",
    "\n",
    "    return needed_actions\n",
    "    "
   ],
   "metadata": {
    "collapsed": false
   },
   "outputs": [],
   "execution_count": null
  },
  {
   "cell_type": "markdown",
   "source": [
    "- Returns the prior task, if required, of a given task, by accessing the \"CUT.requiresPriorTask\" property."
   ],
   "metadata": {
    "collapsed": false
   }
  },
  {
   "cell_type": "code",
   "source": [
    "def get_prior_task(task=None):\n",
    "    restrictions = [i for i in task.is_a if isinstance(i, owlready2.Restriction)]\n",
    "    if len(restrictions) == 0:\n",
    "        if task.is_a:\n",
    "            return get_prior_task(task.is_a[0])\n",
    "    if len(restrictions) < 0:\n",
    "        for i in task.is_a:\n",
    "            if isinstance(i, owlready2.Restriction) and i.property == CUT.requiresPriorTask:\n",
    "                return i.value"
   ],
   "metadata": {
    "collapsed": false
   },
   "outputs": [],
   "execution_count": null
  },
  {
   "cell_type": "markdown",
   "source": [
    "- Returns the number of repetitions required for a given task, by accessing the \"CUT.repetitions\" property."
   ],
   "metadata": {
    "collapsed": false
   }
  },
  {
   "cell_type": "code",
   "source": [
    "def get_number_of_repetitions(task=None):\n",
    "    restrictions = [i for i in task.is_a if isinstance(i, owlready2.Restriction)]\n",
    "    if len(restrictions) == 0:\n",
    "        if task.is_a:\n",
    "            return get_number_of_repetitions(task.is_a[0])\n",
    "\n",
    "    if len(restrictions) > 0:\n",
    "        for i in task.is_a:\n",
    "            if isinstance(i, owlready2.Restriction) and i.property == CUT.repetitions:\n",
    "                if i.cardinality:\n",
    "                    return \"min repetitions:\" + str(i.cardinality)\n",
    "                else:\n",
    "                    return i.value\n",
    "\n",
    "\n",
    "\n",
    "\n",
    "print(get_number_of_repetitions(SOMA.Dicing))"
   ],
   "metadata": {
    "collapsed": false
   },
   "outputs": [],
   "execution_count": null
  },
  {
   "cell_type": "markdown",
   "source": [
    "- Returns the position of execution, by accessing the \"CUT.affordsPosition\" property."
   ],
   "metadata": {
    "collapsed": false
   }
  },
  {
   "cell_type": "code",
   "source": [
    "def get_position_of_execution(task=None):\n",
    "    restrictions = [i for i in task.is_a if isinstance(i, owlready2.Restriction)]\n",
    "    if len(restrictions) == 0:\n",
    "        if task.is_a:\n",
    "            return get_position_of_execution(task.is_a[0])\n",
    "\n",
    "    if len(restrictions) > 0:\n",
    "        for i in restrictions:\n",
    "            if i.property == CUT.affordsPosition:\n",
    "                return i.value\n",
    "\n",
    "print(get_position_of_execution(CUT.Snipping))"
   ],
   "metadata": {
    "collapsed": false
   },
   "outputs": [],
   "execution_count": null
  },
  {
   "metadata": {},
   "cell_type": "markdown",
   "source": [
    "## Test\n",
    "\n",
    "- Testing the Queries for every task and every FoodObject"
   ]
  },
  {
   "metadata": {},
   "cell_type": "code",
   "source": [
    "tasks = [('Cutting Action',\"cut:CuttingAction\"),\n",
    "        ('Quartering', \"cut:Quartering\"),\n",
    "        ('Julienning',\"cut:Julienning\"),\n",
    "        ('Halving',\"cut:Halving\"),\n",
    "        ('Dicing',\"soma:Dicing\"),\n",
    "        ('Cutting',\"soma:Cutting\"),\n",
    "        ('Slicing',\"soma:Slicing\"),\n",
    "        ('Snipping',\"cut:Snipping\"),\n",
    "        ('Slivering',\"cut:Slivering\"),\n",
    "        ('Sawing',\"cut:Sawing\"),\n",
    "        ('Paring',\"cut:Paring\"),\n",
    "        ('Carving',\"cut:Carving\"),\n",
    "        ('Mincing',\"cut:Mincing\"),\n",
    "        ('Cubing',\"cut:Cubing\"),\n",
    "        ('Chopping',\"cut:Chopping\")]\n",
    "\n",
    "objects=[('almond', \"obo:FOODON_00003523\"),\n",
    "        ('apple', \"obo:FOODON_03301710\"),\n",
    "        ('avocado', \"obo:FOODON_00003600\"),\n",
    "        ('banana', \"obo:FOODON_00004183\"),\n",
    "        ('bean', \"obo:FOODON_03301403\"),      \n",
    "        ('citron', \"obo:FOODON_03306596\"),\n",
    "        ('coconut', \"obo:FOODON_00003449\"),     \n",
    "        ('cucumber', \"obo:FOODON_00003415\"),\n",
    "        ('kiwi', \"obo:FOODON_00004387\"), \n",
    "        ('kumquat', \"obo:FOODON_03306597\"),\n",
    "        ('lemon', \"obo:FOODON_03301441\"),\n",
    "        ('lime', \"obo:FOODON_00003661\"),\n",
    "        ('olive', \"obo:FOODON_03317509\"),\n",
    "        ('orange', \"obo:FOODON_03309832\"),\n",
    "        ('peach', \"obo:FOODON_03315502\"), \n",
    "        ('pepper', \"obo:FOODON_00003520\"),\n",
    "        ('pineapple', \"obo:FOODON_00003459\"),\n",
    "        ('pumpkin', \"obo:FOODON_00003486\"),\n",
    "        ('strawberry', \"obo:FOODON_00003443\"),        \n",
    "        ('squash', \"obo:FOODON_00003539\"),\n",
    "        ('tomato', \"obo:FOODON_03309927\")]"
   ],
   "outputs": [],
   "execution_count": null
  },
  {
   "cell_type": "code",
   "execution_count": null,
   "outputs": [],
   "source": [
    "task = SOMA.Slicing\n",
    "\n",
    "print(get_number_of_repetitions(task))\n",
    "print(get_position_of_execution(task))\n",
    "print(get_prior_task(task))"
   ],
   "metadata": {
    "collapsed": false
   }
  },
  {
   "cell_type": "code",
   "execution_count": null,
   "outputs": [],
   "source": [
    "for o in objects:\n",
    "    foodOn_cls = getattr(OBO,o[1].split(\":\")[1])\n",
    "    print(foodOn_cls)\n",
    "    print(foodOn_cls.label)\n",
    "    print(gettool_query(foodOn_cls))\n",
    "    print(needed_action_query(foodOn_cls))\n",
    "    print(\"New Cls\")\n"
   ],
   "metadata": {
    "collapsed": false
   }
  },
  {
   "cell_type": "markdown",
   "source": [
    "- Anscheinend werden nur die Sachen berücksichtigt wo ShouldbeAvoided oder MustBeAvoided drin steht, vlt das ändern?\n",
    "- Manchmal sind mehrere Actions als Rückgabe zb Apple hat Core das removed wird, daraus\n",
    "- Manche Klassen geben nichts aus bei needed actions, obwohl es drin stehen sollte, auch bei den queries wird nichts returned. Meistens bei \"Shell\"\n",
    "- affordsTask Peeling wird nicht berücksichtigt bei WhatTool?"
   ],
   "metadata": {
    "collapsed": false
   }
  }
 ],
 "metadata": {
  "kernelspec": {
   "display_name": "Python 3",
   "language": "python",
   "name": "python3"
  },
  "language_info": {
   "codemirror_mode": {
    "name": "ipython",
    "version": 2
   },
   "file_extension": ".py",
   "mimetype": "text/x-python",
   "name": "python",
   "nbconvert_exporter": "python",
   "pygments_lexer": "ipython2",
   "version": "2.7.6"
  }
 },
 "nbformat": 4,
 "nbformat_minor": 0
}
