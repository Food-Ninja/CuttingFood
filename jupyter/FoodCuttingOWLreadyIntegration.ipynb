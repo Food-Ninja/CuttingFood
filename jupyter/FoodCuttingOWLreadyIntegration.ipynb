{
 "cells": [
  {
   "cell_type": "markdown",
   "source": [
    "## Food Cutting OWLReady Integration Notebook\n",
    "\n",
    "OWLReady Integration with owlready2 for the Food Cutting SPARQL Queries from: https://github.com/Food-Ninja/CuttingFood/blob/main/jupyter/FoodCuttingQueries.ipynb"
   ],
   "metadata": {
    "collapsed": false
   }
  },
  {
   "cell_type": "code",
   "source": [
    "import owlready2\n",
    "from owlready2 import get_ontology, Restriction, And"
   ],
   "metadata": {
    "collapsed": false,
    "ExecuteTime": {
     "end_time": "2024-10-02T10:10:09.941046Z",
     "start_time": "2024-10-02T10:10:09.931703Z"
    }
   },
   "outputs": [],
   "execution_count": 1
  },
  {
   "cell_type": "markdown",
   "source": [
    "- The URL can be a file from the internet but also a local file\n",
    "- Defining the Namespaces globally so they can be accessed by every function\n",
    "- Accessing a class requires to call the Namespace for example, the class \"apple\" (IRI: \"http://purl.obolibrary.org/obo/FOODON_03301710\") corresponds to OBO.FOODON_03301710, as the OBO namespace is defined as such."
   ],
   "metadata": {
    "collapsed": false
   }
  },
  {
   "cell_type": "code",
   "source": [
    "url = \"https://raw.githubusercontent.com/Food-Ninja/CuttingFood/main/owl/food_cutting.owl\"\n",
    "onto = get_ontology(url).load()\n",
    "SOMA = onto.get_namespace(\"http://www.ease-crc.org/ont/SOMA.owl#\")\n",
    "CUT2 = onto.get_namespace(\"http://www.ease-crc.org/ont/situation_awareness#\")\n",
    "CUT = onto.get_namespace(\"http://www.ease-crc.org/ont/food_cutting#\")\n",
    "DUL = onto.get_namespace(\"http://www.ontologydesignpatterns.org/ont/dul/DUL.owl#\")\n",
    "OBO = onto.get_namespace(\"http://purl.obolibrary.org/obo/\")\n"
   ],
   "metadata": {
    "collapsed": false,
    "ExecuteTime": {
     "end_time": "2024-10-02T10:10:10.320925Z",
     "start_time": "2024-10-02T10:10:09.981709Z"
    }
   },
   "outputs": [],
   "execution_count": 2
  },
  {
   "cell_type": "markdown",
   "source": [
    "- Utility function to retrieve all restrictions, the restrictions are structured as parent classes of the food object.\n",
    "- requires food object class as input, for example: OBO.FOODON_03301710"
   ],
   "metadata": {
    "collapsed": false
   }
  },
  {
   "cell_type": "code",
   "source": [
    "def get_restrictions_of_class(cls):\n",
    "    union = set()\n",
    "    for parent in cls.is_a:\n",
    "        if isinstance(parent, owlready2.Restriction):\n",
    "            union.add(parent)"
   ],
   "metadata": {
    "collapsed": false,
    "ExecuteTime": {
     "end_time": "2024-10-02T10:10:10.387779Z",
     "start_time": "2024-10-02T10:10:10.385008Z"
    }
   },
   "outputs": [],
   "execution_count": 3
  },
  {
   "cell_type": "markdown",
   "source": [
    "- Query for the required Tool, requires a food object as input.\n",
    "- The food object class has a restriction which shows which CuttingTool is required.\n",
    "- First we consider only the restrictions with the property: \"SOMA.hasDisposition\" and check if the food object can be cut.\n",
    "- Secondly we check if a CuttingTask can be afforded, by looking at the property \"SOMA.affordsTask\".\n",
    "- Finally we can retrieve the required tool with the \"SOMA.affordsTrigger\" property."
   ],
   "metadata": {
    "collapsed": false
   }
  },
  {
   "cell_type": "code",
   "source": [
    "def gettool_query(food_object=None):\n",
    "    restrictions = get_restrictions_of_class(food_object)\n",
    "    for restriction in restrictions:\n",
    "        if isinstance(restriction, owlready2.Restriction) and restriction.property == SOMA.hasDisposition:\n",
    "            for r in restriction.value.Classes:\n",
    "                if r == CUT2.Cuttability:\n",
    "                    for c in restriction.value.Classes:\n",
    "                        if isinstance(c, owlready2.Restriction) and c.property == SOMA.affordsTask:\n",
    "                            if c.value != CUT.CuttingTask:\n",
    "                                return \"No CuttingTask found\"\n",
    "                            continue\n",
    "                        if isinstance(c, owlready2.Restriction) and c.property == SOMA.affordsTrigger:\n",
    "                            return c.value.value"
   ],
   "metadata": {
    "collapsed": false,
    "ExecuteTime": {
     "end_time": "2024-10-02T10:10:10.657879Z",
     "start_time": "2024-10-02T10:10:10.654613Z"
    }
   },
   "outputs": [],
   "execution_count": 4
  },
  {
   "cell_type": "markdown",
   "source": [
    "- This function checks if and which prior actions are required, for example if the core of a fruit needs to be removed.\n",
    "- First we want to check if an action is required by looking at the \"CUT.hasPart\" property, this property contains classes like \"Cut.ShouldBeAvoided\" or \"MustBeAvoided\", which indicates that a prior action is required.\n",
    "- If the case occurs, we look at the Class which is retrieved from the \"CUT.hasPart\" property, like \"Stem\" and \"Core\". This classes also contain restrictions from which we can retrieve the needed action, by asking the property \"SOMA.affordsTask\".\n",
    "- The output can be for example \"StemRemoving\" or \"CoreCutting\""
   ],
   "metadata": {
    "collapsed": false
   }
  },
  {
   "cell_type": "code",
   "source": [
    "def needed_action_query(food_object=None):\n",
    "    restrictions = get_restrictions_of_class(food_object)\n",
    "    for i in restrictions:\n",
    "        if isinstance(i, owlready2.Restriction) and i.property == CUT.hasPart:\n",
    "            for c in i.value.Classes:\n",
    "                if isinstance(c, owlready2.Restriction) and c.property == CUT.hasEdibility:\n",
    "                    if c.value != CUT.ShouldBeAvoided or c.value != CUT.MustBeAvoided:\n",
    "                        continue\n",
    "                    if c.value == CUT.ShouldBeAvoided or c.value == CUT.MustBeAvoided:\n",
    "                        for j in i.value.Classes:\n",
    "                            if not isinstance(j, owlready2.Restriction):\n",
    "                                for h in get_restrictions_of_class(j):\n",
    "                                    for k in h.value.Classes:\n",
    "                                        if isinstance(k, owlready2.Restriction) and k.property == SOMA.affordsTask:\n",
    "                                            return k.value\n",
    "                    else:\n",
    "                        return print(\"No Actions Needed\")"
   ],
   "metadata": {
    "collapsed": false,
    "ExecuteTime": {
     "end_time": "2024-10-02T10:10:10.968364Z",
     "start_time": "2024-10-02T10:10:10.965370Z"
    }
   },
   "outputs": [],
   "execution_count": 5
  },
  {
   "cell_type": "markdown",
   "source": [
    "- Returns the prior task, if required, of a given task, by accessing the \"CUT.requiresPriorTask\" property."
   ],
   "metadata": {
    "collapsed": false
   }
  },
  {
   "cell_type": "code",
   "source": [
    "def get_prior_task(task=None):\n",
    "    for i in task.is_a:\n",
    "        if isinstance(i, owlready2.Restriction) and i.property == CUT.requiresPriorTask:\n",
    "            return i.value"
   ],
   "metadata": {
    "collapsed": false,
    "ExecuteTime": {
     "end_time": "2024-10-02T10:10:11.222090Z",
     "start_time": "2024-10-02T10:10:11.218267Z"
    }
   },
   "outputs": [],
   "execution_count": 6
  },
  {
   "cell_type": "markdown",
   "source": "- Returns the number of repetitions required for a given task, by accessing the \"CUT.repetitions\" property.",
   "metadata": {
    "collapsed": false
   }
  },
  {
   "cell_type": "code",
   "source": [
    "def get_number_of_repetitions(task=None):\n",
    "    for i in task.is_a:\n",
    "        if isinstance(i, owlready2.Restriction) and i.property == CUT.repetitions:\n",
    "            return i.value"
   ],
   "metadata": {
    "collapsed": false,
    "ExecuteTime": {
     "end_time": "2024-10-02T10:10:11.352346Z",
     "start_time": "2024-10-02T10:10:11.349106Z"
    }
   },
   "outputs": [],
   "execution_count": 7
  },
  {
   "cell_type": "markdown",
   "source": [
    "Returns the position of execution, by accessing the \"CUT.affordsPosition\" property."
   ],
   "metadata": {
    "collapsed": false
   }
  },
  {
   "cell_type": "code",
   "source": [
    "def get_position_of_execution(task=None):\n",
    "    for i in task.is_a:\n",
    "        if isinstance(i, owlready2.Restriction) and i.property == CUT.affordsPosition:\n",
    "            return i.value"
   ],
   "metadata": {
    "collapsed": false,
    "ExecuteTime": {
     "end_time": "2024-10-02T10:10:11.427253Z",
     "start_time": "2024-10-02T10:10:11.425027Z"
    }
   },
   "outputs": [],
   "execution_count": 8
  },
  {
   "metadata": {},
   "cell_type": "markdown",
   "source": [
    "## Test\n",
    "\n",
    "- Testing the Queries for every task and every FoodObject"
   ]
  },
  {
   "metadata": {
    "ExecuteTime": {
     "end_time": "2024-10-02T10:23:06.495772Z",
     "start_time": "2024-10-02T10:23:06.488555Z"
    }
   },
   "cell_type": "code",
   "source": [
    "tasks = [('Cutting Action',\"cut:CuttingAction\"),\n",
    "        ('Quartering', \"cut:Quartering\"),\n",
    "        ('Julienning',\"cut:Julienning\"),\n",
    "        ('Halving',\"cut:Halving\"),\n",
    "        ('Dicing',\"soma:Dicing\"),\n",
    "        ('Cutting',\"soma:Cutting\"),\n",
    "        ('Slicing',\"soma:Slicing\"),\n",
    "        ('Snipping',\"cut:Snipping\"),\n",
    "        ('Slivering',\"cut:Slivering\"),\n",
    "        ('Sawing',\"cut:Sawing\"),\n",
    "        ('Paring',\"cut:Paring\"),\n",
    "        ('Carving',\"cut:Carving\"),\n",
    "        ('Mincing',\"cut:Mincing\"),\n",
    "        ('Cubing',\"cut:Cubing\"),\n",
    "        ('Chopping',\"cut:Chopping\")]\n",
    "\n",
    "objects=[('almond', \"obo:FOODON_00003523\"),\n",
    "        ('apple', \"obo:FOODON_03301710\"),\n",
    "        ('avocado', \"obo:FOODON_00003600\"),\n",
    "        ('banana', \"obo:FOODON_00004183\"),\n",
    "        ('bean', \"obo:FOODON_03301403\"),      \n",
    "        ('citron', \"obo:FOODON_03306596\"),\n",
    "        ('coconut', \"obo:FOODON_00003449\"),     \n",
    "        ('cucumber', \"obo:FOODON_00003415\"),\n",
    "        ('kiwi', \"obo:FOODON_00004387\"), \n",
    "        ('kumquat', \"obo:FOODON_03306597\"),\n",
    "        ('lemon', \"obo:FOODON_03301441\"),\n",
    "        ('lime', \"obo:FOODON_00003661\"),\n",
    "        ('olive', \"obo:FOODON_03317509\"),\n",
    "        ('orange', \"obo:FOODON_03309832\"),\n",
    "        ('peach', \"obo:FOODON_03315502\"), \n",
    "        ('pepper', \"obo:FOODON_00003520\"),\n",
    "        ('pineapple', \"obo:FOODON_00003459\"),\n",
    "        ('pumpkin', \"obo:FOODON_00003486\"),\n",
    "        ('strawberry', \"obo:FOODON_00003443\"),        \n",
    "        ('squash', \"obo:FOODON_00003539\"),\n",
    "        ('tomato', \"obo:FOODON_03309927\")]"
   ],
   "outputs": [],
   "execution_count": 23
  },
  {
   "metadata": {
    "ExecuteTime": {
     "end_time": "2024-10-02T10:23:42.667990Z",
     "start_time": "2024-10-02T10:23:42.653716Z"
    }
   },
   "cell_type": "code",
   "source": [
    "for o in objects:\n",
    "    foodOn_cls = getattr(OBO,o[1].split(\":\")[1])\n",
    "    print(foodOn_cls.label)\n",
    "    print(gettool_query(foodOn_cls))\n"
   ],
   "outputs": [
    {
     "name": "stdout",
     "output_type": "stream",
     "text": [
      "['almond']\n"
     ]
    },
    {
     "ename": "TypeError",
     "evalue": "'NoneType' object is not iterable",
     "output_type": "error",
     "traceback": [
      "\u001B[0;31m---------------------------------------------------------------------------\u001B[0m",
      "\u001B[0;31mTypeError\u001B[0m                                 Traceback (most recent call last)",
      "Cell \u001B[0;32mIn[26], line 4\u001B[0m\n\u001B[1;32m      2\u001B[0m foodOn_cls \u001B[38;5;241m=\u001B[39m \u001B[38;5;28mgetattr\u001B[39m(OBO,o[\u001B[38;5;241m1\u001B[39m]\u001B[38;5;241m.\u001B[39msplit(\u001B[38;5;124m\"\u001B[39m\u001B[38;5;124m:\u001B[39m\u001B[38;5;124m\"\u001B[39m)[\u001B[38;5;241m1\u001B[39m])\n\u001B[1;32m      3\u001B[0m \u001B[38;5;28mprint\u001B[39m(foodOn_cls\u001B[38;5;241m.\u001B[39mlabel)\n\u001B[0;32m----> 4\u001B[0m \u001B[38;5;28mprint\u001B[39m(\u001B[43mgettool_query\u001B[49m\u001B[43m(\u001B[49m\u001B[43mfoodOn_cls\u001B[49m\u001B[43m)\u001B[49m)\n",
      "Cell \u001B[0;32mIn[4], line 3\u001B[0m, in \u001B[0;36mgettool_query\u001B[0;34m(food_object)\u001B[0m\n\u001B[1;32m      1\u001B[0m \u001B[38;5;28;01mdef\u001B[39;00m \u001B[38;5;21mgettool_query\u001B[39m(food_object\u001B[38;5;241m=\u001B[39m\u001B[38;5;28;01mNone\u001B[39;00m):\n\u001B[1;32m      2\u001B[0m     restrictions \u001B[38;5;241m=\u001B[39m get_restrictions_of_class(food_object)\n\u001B[0;32m----> 3\u001B[0m     \u001B[38;5;28;01mfor\u001B[39;00m restriction \u001B[38;5;129;01min\u001B[39;00m restrictions:\n\u001B[1;32m      4\u001B[0m         \u001B[38;5;28;01mif\u001B[39;00m \u001B[38;5;28misinstance\u001B[39m(restriction, owlready2\u001B[38;5;241m.\u001B[39mRestriction) \u001B[38;5;129;01mand\u001B[39;00m restriction\u001B[38;5;241m.\u001B[39mproperty \u001B[38;5;241m==\u001B[39m SOMA\u001B[38;5;241m.\u001B[39mhasDisposition:\n\u001B[1;32m      5\u001B[0m             \u001B[38;5;28;01mfor\u001B[39;00m r \u001B[38;5;129;01min\u001B[39;00m restriction\u001B[38;5;241m.\u001B[39mvalue\u001B[38;5;241m.\u001B[39mClasses:\n",
      "\u001B[0;31mTypeError\u001B[0m: 'NoneType' object is not iterable"
     ]
    }
   ],
   "execution_count": 26
  },
  {
   "metadata": {},
   "cell_type": "code",
   "outputs": [],
   "execution_count": null,
   "source": ""
  }
 ],
 "metadata": {
  "kernelspec": {
   "display_name": "Python 3",
   "language": "python",
   "name": "python3"
  },
  "language_info": {
   "codemirror_mode": {
    "name": "ipython",
    "version": 2
   },
   "file_extension": ".py",
   "mimetype": "text/x-python",
   "name": "python",
   "nbconvert_exporter": "python",
   "pygments_lexer": "ipython2",
   "version": "2.7.6"
  }
 },
 "nbformat": 4,
 "nbformat_minor": 0
}
